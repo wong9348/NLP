{
 "cells": [
  {
   "cell_type": "code",
   "execution_count": 1,
   "metadata": {},
   "outputs": [
    {
     "ename": "ValueError",
     "evalue": "spacy.strings.StringStore size changed, may indicate binary incompatibility. Expected 80 from C header, got 64 from PyObject",
     "output_type": "error",
     "traceback": [
      "\u001b[1;31m---------------------------------------------------------------------------\u001b[0m",
      "\u001b[1;31mValueError\u001b[0m                                Traceback (most recent call last)",
      "\u001b[1;32m<ipython-input-1-449951f59aaa>\u001b[0m in \u001b[0;36m<module>\u001b[1;34m\u001b[0m\n\u001b[0;32m     12\u001b[0m         \u001b[1;33m|\u001b[0m\u001b[0mid\u001b[0m \u001b[1;33m|\u001b[0m \u001b[0manswer\u001b[0m \u001b[1;33m|\u001b[0m\u001b[1;33m\u001b[0m\u001b[1;33m\u001b[0m\u001b[0m\n\u001b[0;32m     13\u001b[0m \"\"\"\n\u001b[1;32m---> 14\u001b[1;33m \u001b[1;32mfrom\u001b[0m \u001b[0mformative_assessment\u001b[0m\u001b[1;33m.\u001b[0m\u001b[0mdataset_extractor\u001b[0m \u001b[1;32mimport\u001b[0m \u001b[0mDataExtractor\u001b[0m\u001b[1;33m,\u001b[0m \u001b[0mConvertDataType\u001b[0m\u001b[1;33m\u001b[0m\u001b[1;33m\u001b[0m\u001b[0m\n\u001b[0m\u001b[0;32m     15\u001b[0m \u001b[1;32mfrom\u001b[0m \u001b[0mformative_assessment\u001b[0m\u001b[1;33m.\u001b[0m\u001b[0mfeature_extractor\u001b[0m \u001b[1;32mimport\u001b[0m \u001b[0mFeatureExtractor\u001b[0m\u001b[1;33m\u001b[0m\u001b[1;33m\u001b[0m\u001b[0m\n\u001b[0;32m     16\u001b[0m \u001b[1;32mimport\u001b[0m \u001b[0mtime\u001b[0m\u001b[1;33m\u001b[0m\u001b[1;33m\u001b[0m\u001b[0m\n",
      "\u001b[1;32m~\\Desktop\\FYP\\Automatic-Formative-Assessment-main\\formative_assessment\\dataset_extractor.py\u001b[0m in \u001b[0;36m<module>\u001b[1;34m\u001b[0m\n\u001b[0;32m      8\u001b[0m \u001b[1;32mimport\u001b[0m \u001b[0mpandas\u001b[0m \u001b[1;32mas\u001b[0m \u001b[0mpd\u001b[0m\u001b[1;33m\u001b[0m\u001b[1;33m\u001b[0m\u001b[0m\n\u001b[0;32m      9\u001b[0m \u001b[1;33m\u001b[0m\u001b[0m\n\u001b[1;32m---> 10\u001b[1;33m \u001b[1;32mfrom\u001b[0m \u001b[0mformative_assessment\u001b[0m\u001b[1;33m.\u001b[0m\u001b[0mutilities\u001b[0m\u001b[1;33m.\u001b[0m\u001b[0mutils\u001b[0m \u001b[1;32mimport\u001b[0m \u001b[0mUtilities\u001b[0m\u001b[1;33m\u001b[0m\u001b[1;33m\u001b[0m\u001b[0m\n\u001b[0m\u001b[0;32m     11\u001b[0m \u001b[1;33m\u001b[0m\u001b[0m\n\u001b[0;32m     12\u001b[0m \u001b[0m__author__\u001b[0m \u001b[1;33m=\u001b[0m \u001b[1;34m\"Sasi Kiran Gaddipati\"\u001b[0m\u001b[1;33m\u001b[0m\u001b[1;33m\u001b[0m\u001b[0m\n",
      "\u001b[1;32m~\\Desktop\\FYP\\Automatic-Formative-Assessment-main\\formative_assessment\\utilities\\utils.py\u001b[0m in \u001b[0;36m<module>\u001b[1;34m\u001b[0m\n\u001b[0;32m     11\u001b[0m \u001b[1;32mfrom\u001b[0m \u001b[0mtyping\u001b[0m \u001b[1;32mimport\u001b[0m \u001b[0mList\u001b[0m\u001b[1;33m\u001b[0m\u001b[1;33m\u001b[0m\u001b[0m\n\u001b[0;32m     12\u001b[0m \u001b[1;33m\u001b[0m\u001b[0m\n\u001b[1;32m---> 13\u001b[1;33m \u001b[1;32mimport\u001b[0m \u001b[0mneuralcoref\u001b[0m\u001b[1;33m\u001b[0m\u001b[1;33m\u001b[0m\u001b[0m\n\u001b[0m\u001b[0;32m     14\u001b[0m \u001b[1;32mimport\u001b[0m \u001b[0mnumpy\u001b[0m \u001b[1;32mas\u001b[0m \u001b[0mnp\u001b[0m\u001b[1;33m\u001b[0m\u001b[1;33m\u001b[0m\u001b[0m\n\u001b[0;32m     15\u001b[0m \u001b[1;32mimport\u001b[0m \u001b[0mpytextrank\u001b[0m\u001b[1;33m\u001b[0m\u001b[1;33m\u001b[0m\u001b[0m\n",
      "\u001b[1;32m~\\anaconda3\\lib\\site-packages\\neuralcoref\\__init__.py\u001b[0m in \u001b[0;36m<module>\u001b[1;34m\u001b[0m\n\u001b[0;32m     12\u001b[0m \u001b[0mwarnings\u001b[0m\u001b[1;33m.\u001b[0m\u001b[0mfilterwarnings\u001b[0m\u001b[1;33m(\u001b[0m\u001b[1;34m\"ignore\"\u001b[0m\u001b[1;33m,\u001b[0m \u001b[0mmessage\u001b[0m\u001b[1;33m=\u001b[0m\u001b[1;34m\"spacy.strings.StringStore size changed,\"\u001b[0m\u001b[1;33m)\u001b[0m\u001b[1;33m\u001b[0m\u001b[1;33m\u001b[0m\u001b[0m\n\u001b[0;32m     13\u001b[0m \u001b[1;33m\u001b[0m\u001b[0m\n\u001b[1;32m---> 14\u001b[1;33m \u001b[1;32mfrom\u001b[0m \u001b[1;33m.\u001b[0m\u001b[0mneuralcoref\u001b[0m \u001b[1;32mimport\u001b[0m \u001b[0mNeuralCoref\u001b[0m\u001b[1;33m\u001b[0m\u001b[1;33m\u001b[0m\u001b[0m\n\u001b[0m\u001b[0;32m     15\u001b[0m \u001b[1;32mfrom\u001b[0m \u001b[1;33m.\u001b[0m\u001b[0mfile_utils\u001b[0m \u001b[1;32mimport\u001b[0m \u001b[0mNEURALCOREF_MODEL_URL\u001b[0m\u001b[1;33m,\u001b[0m \u001b[0mNEURALCOREF_MODEL_PATH\u001b[0m\u001b[1;33m,\u001b[0m \u001b[0mNEURALCOREF_CACHE\u001b[0m\u001b[1;33m,\u001b[0m \u001b[0mcached_path\u001b[0m\u001b[1;33m\u001b[0m\u001b[1;33m\u001b[0m\u001b[0m\n\u001b[0;32m     16\u001b[0m \u001b[1;33m\u001b[0m\u001b[0m\n",
      "\u001b[1;32mstrings.pxd\u001b[0m in \u001b[0;36minit neuralcoref.neuralcoref\u001b[1;34m()\u001b[0m\n",
      "\u001b[1;31mValueError\u001b[0m: spacy.strings.StringStore size changed, may indicate binary incompatibility. Expected 80 from C header, got 64 from PyObject"
     ]
    }
   ],
   "source": [
    "\"\"\"\n",
    "Run the formative assessment on the student answers for a given question and desired answer\n",
    "Prints the\n",
    "    Wrong terms/phrases in the student answers if any\n",
    "    Wrong answer if any\n",
    "    Interchange of terms/definitions if any\n",
    "\n",
    "Input: Directory path of the dataset. The directory path should contain answers.csv, questions.csv files\n",
    "    The questions.csv should consist of ids of the questions, questions and corresponding desired answers\n",
    "       | id | question | solution |\n",
    "    The answers.csv should consist of the student answers, their corresponding ids\n",
    "        |id | answer |\n",
    "\"\"\"\n",
    "from formative_assessment.dataset_extractor import DataExtractor, ConvertDataType\n",
    "from formative_assessment.feature_extractor import FeatureExtractor\n",
    "import time\n",
    "import os\n",
    "import warnings\n",
    "import random\n",
    "\n",
    "os.environ[\"TF_CPP_MIN_LOG_LEVEL\"] = '3'\n",
    "warnings.filterwarnings(\"ignore\")\n",
    "\n",
    "__author__ = \"Sasi Kiran Gaddipati\"\n",
    "__credits__ = [\"Tim Metzler\"]\n",
    "__license__ = \"\"\n",
    "__version__ = \"1.0.1\"\n",
    "__email__ = \"sasi-kiran.gaddipati@smail.inf.h-brs.de\"\n",
    "__last_modified__ = \"04.04.2021\"\n",
    "__status__ = \"Prototype\"\n",
    "\n",
    "if __name__ == '__main__':\n",
    "    PATH = \"dataset/mohler/cleaned/\"\n",
    "\n",
    "    # Convert the data into  dictionary with ids, their corresponding questions, desired answers and student answers\n",
    "\n",
    "    convert_data = ConvertDataType(PATH)\n",
    "    dataset_dict = convert_data.to_dict()\n",
    "    # Notes: time taken for data conversion is 9.34 secs\n",
    "\n",
    "    id_list = list(dataset_dict.keys())\n",
    "\n",
    "    r = random.Random(7)\n",
    "\n",
    "    for i in range(0, 2):\n",
    "        s_no = r.choice(id_list)\n",
    "        index = r.randint(0, 10)\n",
    "        print('Id = ', s_no)\n",
    "\n",
    "        question = dataset_dict[s_no][\"question\"]\n",
    "        print(\"Question: \", question)\n",
    "\n",
    "        desired_answer = dataset_dict[s_no][\"desired_answer\"]\n",
    "        print(\"Desired answer: \", desired_answer)\n",
    "        # temporary student answer\n",
    "        student_answers = dataset_dict[s_no][\"student_answers\"]\n",
    "        scores = dataset_dict[s_no][\"scores\"]\n",
    "\n",
    "        # for i, _ in enumerate(student_answers):\n",
    "        start = time.time()\n",
    "        student_answer = student_answers[index].lower()\n",
    "        print(\"Student answer: \", student_answer)\n",
    "        print(\"Assigned score: \", scores[index])\n",
    "        extract_features = FeatureExtractor(s_no, dataset_dict)\n",
    "        extract_features.get_irrelevant_terms(student_answer)\n",
    "        extract_features.is_wrong_answer()\n",
    "        # Wrong answers work only when get_wrong_terms method is run, else returns None\n",
    "        extract_features.get_partial_answers(student_answer)\n",
    "        extract_features.get_interchanged_terms(student_answer)\n",
    "        print(\"It took \", time.time() - start, \" secs\")\n",
    "        print(\"----------------------------------------------------------\")\n"
   ]
  },
  {
   "cell_type": "code",
   "execution_count": null,
   "metadata": {},
   "outputs": [],
   "source": []
  }
 ],
 "metadata": {
  "kernelspec": {
   "display_name": "Python 3",
   "language": "python",
   "name": "python3"
  },
  "language_info": {
   "codemirror_mode": {
    "name": "ipython",
    "version": 3
   },
   "file_extension": ".py",
   "mimetype": "text/x-python",
   "name": "python",
   "nbconvert_exporter": "python",
   "pygments_lexer": "ipython3",
   "version": "3.8.5"
  }
 },
 "nbformat": 4,
 "nbformat_minor": 4
}
